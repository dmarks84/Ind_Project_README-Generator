{
 "cells": [
  {
   "cell_type": "code",
   "execution_count": 1,
   "id": "47467eda",
   "metadata": {},
   "outputs": [],
   "source": [
    "from pathlib import Path\n",
    "import os\n",
    "import pandas as pd\n",
    "import numpy as np\n",
    "import re"
   ]
  },
  {
   "cell_type": "code",
   "execution_count": 2,
   "id": "8af391fe",
   "metadata": {},
   "outputs": [],
   "source": [
    "path = Path(r'C:\\Users\\dmark\\OneDrive\\Career\\GitHub')"
   ]
  },
  {
   "cell_type": "code",
   "execution_count": 3,
   "id": "d08f5a74",
   "metadata": {
    "scrolled": false
   },
   "outputs": [],
   "source": [
    "subfolders = [str(item).strip() for item in path.rglob(\"*\") if (set(item.parts).isdisjoint(['.git']) & item.is_dir())]"
   ]
  },
  {
   "cell_type": "code",
   "execution_count": 4,
   "id": "9f72f7fb",
   "metadata": {},
   "outputs": [],
   "source": [
    "data = pd.DataFrame(subfolders, columns=['Path'])"
   ]
  },
  {
   "cell_type": "code",
   "execution_count": 5,
   "id": "c4b41fce",
   "metadata": {},
   "outputs": [],
   "source": [
    "dflt_lvl = 5\n",
    "data['Level'] = data['Path'].map(lambda x:x.count('\\\\')-dflt_lvl)"
   ]
  },
  {
   "cell_type": "code",
   "execution_count": 6,
   "id": "76270ba5",
   "metadata": {},
   "outputs": [],
   "source": [
    "data['FinalFolder'] = data['Path'].str.extract(r'\\\\([^\\\\]+)$')"
   ]
  },
  {
   "cell_type": "code",
   "execution_count": 7,
   "id": "3aa1284c",
   "metadata": {},
   "outputs": [],
   "source": [
    "data['Type'] = np.array('TBD')"
   ]
  },
  {
   "cell_type": "code",
   "execution_count": 8,
   "id": "f985db65",
   "metadata": {},
   "outputs": [],
   "source": [
    "for ind in data.index:\n",
    "    level = data['Level'].loc[ind]\n",
    "    sub = data['FinalFolder'].loc[ind]\n",
    "    if level == 1:\n",
    "        typ  = 'Series'\n",
    "    elif level == 2:\n",
    "        typ = 'Course'\n",
    "    elif level == 3:\n",
    "        typ = 'Module'\n",
    "    else:\n",
    "        typ = 'SubSubFolder'\n",
    "    if sub.find('Project') != -1:\n",
    "        typ = 'Project'\n",
    "    elif sub.find('Assignment') != -1:\n",
    "        typ = 'Assignment(s)'\n",
    "    elif sub.find('Lab') != -1:\n",
    "        typ = 'Lab(s)'\n",
    "    elif sub.find('Assets') != -1:\n",
    "        typ = 'Assets & Screenshots'\n",
    "    elif sub.find('checkpoint') != -1:\n",
    "        typ = 'Jupyter Checkpoints'    \n",
    "    data.at[ind,'Type'] = typ"
   ]
  },
  {
   "cell_type": "code",
   "execution_count": 9,
   "id": "37b81bf5",
   "metadata": {},
   "outputs": [],
   "source": [
    "other_headers = ['Series','Summary','Skills']\n",
    "lang_headers = ['Programming','Python','R']\n",
    "other_headers.extend(lang_headers)\n",
    "db_headers = ['RDBMS & SQL','SQL (MySQL)','SQL (PostgreSQL)','SQL (SQLite)''NoSQL','NoSQL (Cassandra)',\n",
    "              'NoSQL (MongoDB)','Databases']\n",
    "other_headers.extend(db_headers)\n",
    "math_headers = ['Statistics','Probability','Hypothesis Testing','Linear Algebra','Calculus']\n",
    "other_headers.extend(math_headers)\n",
    "pypk_headers = ['SciPy','Numpy','Pandas','Seaborn','Matplotlib','Plotly','Dash','Folium','BeautifulSoup',\n",
    "                'Scikit-learn','Keras','TensorFlow','PyTorch']\n",
    "other_headers.extend(pypk_headers)\n",
    "data_headers = ['Dataframes','ETL &| ELT & Data Pipelines','DAGs','Apache Airflow','Apache Kafka','Apache Spark','Apache Hadoop',\n",
    "                'Automation','Linux/Bash/Shell Commands','Webscraping','APIs','RESTful APIs']\n",
    "other_headers.extend(data_headers)\n",
    "dataviz_headers = ['Data Modeling','EDA','Data Visualization','Data Summarization','Data Reporting','Dashboards']\n",
    "other_headers.extend(dataviz_headers)\n",
    "ml_headers = ['Regression','Classification','Supervised ML','Unsupervised ML','Semi-supervised ML',\n",
    "              'cross validation','grid search','NLP','Image Recognition','Text Recognition','Sentiment Analysis']\n",
    "other_headers.extend(ml_headers)\n",
    "gen_headers = ['Communication','Technical Writing']\n",
    "other_headers.extend(gen_headers)"
   ]
  },
  {
   "cell_type": "code",
   "execution_count": 10,
   "id": "4439e11d",
   "metadata": {},
   "outputs": [],
   "source": [
    "for col in other_headers:\n",
    "    data[col] = False\n",
    "projects_df = data[(data['Type'] == 'Project') & (data['Level'] == 1)]"
   ]
  },
  {
   "cell_type": "code",
   "execution_count": 11,
   "id": "16636121",
   "metadata": {},
   "outputs": [],
   "source": [
    "projects_df = projects_df.drop(columns=['Level','Type'])"
   ]
  },
  {
   "cell_type": "code",
   "execution_count": 12,
   "id": "a96025fa",
   "metadata": {},
   "outputs": [],
   "source": [
    "write_path = Path().absolute()\n",
    "write_path = write_path / 'folder_struct.xlsx'"
   ]
  },
  {
   "cell_type": "code",
   "execution_count": 13,
   "id": "8c57e69f",
   "metadata": {},
   "outputs": [],
   "source": [
    "try:\n",
    "    write_path.unlink()\n",
    "except:\n",
    "    pass\n",
    "projects_df.to_excel(write_path, sheet_name='Sheet1', index=False, na_rep='--')"
   ]
  },
  {
   "cell_type": "code",
   "execution_count": null,
   "id": "e7487394",
   "metadata": {},
   "outputs": [],
   "source": []
  }
 ],
 "metadata": {
  "kernelspec": {
   "display_name": "Python 3 (ipykernel)",
   "language": "python",
   "name": "python3"
  },
  "language_info": {
   "codemirror_mode": {
    "name": "ipython",
    "version": 3
   },
   "file_extension": ".py",
   "mimetype": "text/x-python",
   "name": "python",
   "nbconvert_exporter": "python",
   "pygments_lexer": "ipython3",
   "version": "3.11.4"
  }
 },
 "nbformat": 4,
 "nbformat_minor": 5
}
