{
 "cells": [
  {
   "cell_type": "code",
   "execution_count": 1,
   "id": "999024c4",
   "metadata": {},
   "outputs": [],
   "source": [
    "from pathlib import Path\n",
    "import os\n",
    "import pandas as pd\n",
    "import numpy as np\n",
    "import re"
   ]
  },
  {
   "cell_type": "code",
   "execution_count": 2,
   "id": "ecfc4066",
   "metadata": {},
   "outputs": [],
   "source": [
    "read_path = Path().absolute()\n",
    "read_path = read_path / 'folder_struct.xlsx'\n",
    "try:\n",
    "    rm_df = pd.read_excel(read_path)\n",
    "except:\n",
    "    print(\"Could not read {}\".format(read_path))"
   ]
  },
  {
   "cell_type": "code",
   "execution_count": 3,
   "id": "46a26eca",
   "metadata": {},
   "outputs": [],
   "source": [
    "read_path = Path().absolute()\n",
    "read_path = read_path / 'folder_data.xlsx'\n",
    "try:\n",
    "    data_df = pd.read_excel(read_path)\n",
    "except:\n",
    "    print(\"Could not read {}\".format(read_path))"
   ]
  },
  {
   "cell_type": "code",
   "execution_count": 4,
   "id": "621776be",
   "metadata": {},
   "outputs": [],
   "source": [
    "rm_df.rename(columns={'FinalFolder':'Project'},inplace=True)"
   ]
  },
  {
   "cell_type": "code",
   "execution_count": 5,
   "id": "7f3a6751",
   "metadata": {},
   "outputs": [
    {
     "data": {
      "text/plain": [
       "Index(['Path', 'Project', 'Series', 'Summary', 'Skills', 'Programming',\n",
       "       'Python', 'R', 'RDBMS & SQL', 'SQL (MySQL)', 'SQL (PostgreSQL)',\n",
       "       'SQL (SQLite)NoSQL', 'NoSQL (Cassandra)', 'NoSQL (MongoDB)',\n",
       "       'Databases', 'Statistics', 'Probability', 'Hypothesis Testing',\n",
       "       'Linear Algebra', 'Calculus', 'SciPy', 'Numpy', 'Pandas', 'Seaborn',\n",
       "       'Matplotlib', 'Plotly', 'Dash', 'Folium', 'BeautifulSoup',\n",
       "       'Scikit-learn', 'Keras', 'TensorFlow', 'PyTorch', 'Dataframes',\n",
       "       'ETL &| ELT & Data Pipelines', 'DAGs', 'Apache Airflow', 'Apache Kafka',\n",
       "       'Apache Spark', 'Apache Hadoop', 'Automation',\n",
       "       'Linux/Bash/Shell Commands', 'Webscraping', 'APIs', 'RESTful APIs',\n",
       "       'Data Modeling', 'EDA', 'Data Visualization', 'Data Summarization',\n",
       "       'Data Reporting', 'Dashboards', 'Regression', 'Classification',\n",
       "       'Superived ML', 'Unsupervised ML', 'Semi-supervised ML',\n",
       "       'cross validation', 'grid search', 'NLP', 'Image Recognition',\n",
       "       'Text Recognition', 'Sentiment Analysis', 'Communication',\n",
       "       'Technical Writing'],\n",
       "      dtype='object')"
      ]
     },
     "execution_count": 5,
     "metadata": {},
     "output_type": "execute_result"
    }
   ],
   "source": [
    "rm_df.columns"
   ]
  },
  {
   "cell_type": "code",
   "execution_count": 6,
   "id": "3317b59d",
   "metadata": {},
   "outputs": [
    {
     "data": {
      "text/plain": [
       "Index(['Series', 'Summary', 'Programming', 'Python', 'R', 'RDBMS & SQL',\n",
       "       'SQL (MySQL)', 'SQL (PostgreSQL)', 'SQL (SQLite)NoSQL',\n",
       "       'NoSQL (Cassandra)', 'NoSQL (MongoDB)', 'Databases', 'Statistics',\n",
       "       'Probability', 'Hypothesis Testing', 'Linear Algebra', 'Calculus',\n",
       "       'SciPy', 'Numpy', 'Pandas', 'Seaborn', 'Matplotlib', 'Plotly', 'Dash',\n",
       "       'Folium', 'BeautifulSoup', 'Scikit-learn', 'Keras', 'TensorFlow',\n",
       "       'PyTorch', 'Dataframes', 'ETL &| ELT & Data Pipelines', 'DAGs',\n",
       "       'Apache Airflow', 'Apache Kafka', 'Apache Spark', 'Apache Hadoop',\n",
       "       'Automation', 'Linux/Bash/Shell Commands', 'Webscraping', 'APIs',\n",
       "       'RESTful APIs', 'Data Modeling', 'EDA', 'Data Visualization',\n",
       "       'Data Summarization', 'Data Reporting', 'Dashboards', 'Regression',\n",
       "       'Classification', 'Superived ML', 'Unsupervised ML',\n",
       "       'Semi-supervised ML', 'cross validation', 'grid search', 'NLP',\n",
       "       'Image Recognition', 'Text Recognition', 'Sentiment Analysis',\n",
       "       'Communication', 'Technical Writing'],\n",
       "      dtype='object')"
      ]
     },
     "execution_count": 6,
     "metadata": {},
     "output_type": "execute_result"
    }
   ],
   "source": [
    "data_df.columns"
   ]
  },
  {
   "cell_type": "code",
   "execution_count": 7,
   "id": "ca3e2e2c",
   "metadata": {},
   "outputs": [],
   "source": [
    "for col in data_df.columns:\n",
    "    ser = data_df[col]\n",
    "    rm_df[col] = ser"
   ]
  },
  {
   "cell_type": "code",
   "execution_count": 8,
   "id": "3ea79f68",
   "metadata": {},
   "outputs": [],
   "source": [
    "first_listed_skill = 'Programming'\n",
    "last_listed_skill = 'Technical Writing'\n",
    "fls_loc = list(rm_df.columns).index(first_listed_skill)\n",
    "lls_loc = list(rm_df.columns).index(last_listed_skill)"
   ]
  },
  {
   "cell_type": "code",
   "execution_count": 9,
   "id": "3a6f27e5",
   "metadata": {},
   "outputs": [],
   "source": [
    "skills_cols = rm_df.columns[fls_loc:lls_loc+1]\n",
    "for index in rm_df.index:\n",
    "    rm_df.at[index,'Skills'] = \", \".join(list(skills_cols[rm_df.iloc[index,fls_loc:lls_loc+1].values]))"
   ]
  },
  {
   "cell_type": "code",
   "execution_count": 10,
   "id": "695cc296",
   "metadata": {},
   "outputs": [
    {
     "data": {
      "text/html": [
       "<div>\n",
       "<style scoped>\n",
       "    .dataframe tbody tr th:only-of-type {\n",
       "        vertical-align: middle;\n",
       "    }\n",
       "\n",
       "    .dataframe tbody tr th {\n",
       "        vertical-align: top;\n",
       "    }\n",
       "\n",
       "    .dataframe thead th {\n",
       "        text-align: right;\n",
       "    }\n",
       "</style>\n",
       "<table border=\"1\" class=\"dataframe\">\n",
       "  <thead>\n",
       "    <tr style=\"text-align: right;\">\n",
       "      <th></th>\n",
       "      <th>Path</th>\n",
       "      <th>Project</th>\n",
       "      <th>Series</th>\n",
       "      <th>Summary</th>\n",
       "      <th>Skills</th>\n",
       "      <th>Programming</th>\n",
       "      <th>Python</th>\n",
       "      <th>R</th>\n",
       "      <th>RDBMS &amp; SQL</th>\n",
       "      <th>SQL (MySQL)</th>\n",
       "      <th>...</th>\n",
       "      <th>Unsupervised ML</th>\n",
       "      <th>Semi-supervised ML</th>\n",
       "      <th>cross validation</th>\n",
       "      <th>grid search</th>\n",
       "      <th>NLP</th>\n",
       "      <th>Image Recognition</th>\n",
       "      <th>Text Recognition</th>\n",
       "      <th>Sentiment Analysis</th>\n",
       "      <th>Communication</th>\n",
       "      <th>Technical Writing</th>\n",
       "    </tr>\n",
       "  </thead>\n",
       "  <tbody>\n",
       "    <tr>\n",
       "      <th>0</th>\n",
       "      <td>C:\\Users\\dmark\\OneDrive\\Career\\GitHub\\Capstone...</td>\n",
       "      <td>CapstoneProject_Full_Data_Engineering</td>\n",
       "      <td>IBM Data Engineering &amp; Python</td>\n",
       "      <td>In this project, I applied all of the skills a...</td>\n",
       "      <td>Programming, Python, RDBMS &amp; SQL, SQL (MySQL),...</td>\n",
       "      <td>True</td>\n",
       "      <td>True</td>\n",
       "      <td>False</td>\n",
       "      <td>True</td>\n",
       "      <td>True</td>\n",
       "      <td>...</td>\n",
       "      <td>False</td>\n",
       "      <td>False</td>\n",
       "      <td>False</td>\n",
       "      <td>False</td>\n",
       "      <td>False</td>\n",
       "      <td>False</td>\n",
       "      <td>False</td>\n",
       "      <td>False</td>\n",
       "      <td>True</td>\n",
       "      <td>True</td>\n",
       "    </tr>\n",
       "  </tbody>\n",
       "</table>\n",
       "<p>1 rows × 64 columns</p>\n",
       "</div>"
      ],
      "text/plain": [
       "                                                Path  \\\n",
       "0  C:\\Users\\dmark\\OneDrive\\Career\\GitHub\\Capstone...   \n",
       "\n",
       "                                 Project                         Series  \\\n",
       "0  CapstoneProject_Full_Data_Engineering  IBM Data Engineering & Python   \n",
       "\n",
       "                                             Summary  \\\n",
       "0  In this project, I applied all of the skills a...   \n",
       "\n",
       "                                              Skills  Programming  Python  \\\n",
       "0  Programming, Python, RDBMS & SQL, SQL (MySQL),...         True    True   \n",
       "\n",
       "       R  RDBMS & SQL  SQL (MySQL)  ...  Unsupervised ML  Semi-supervised ML  \\\n",
       "0  False         True         True  ...            False               False   \n",
       "\n",
       "   cross validation  grid search    NLP  Image Recognition  Text Recognition  \\\n",
       "0             False        False  False              False             False   \n",
       "\n",
       "   Sentiment Analysis  Communication  Technical Writing  \n",
       "0               False           True               True  \n",
       "\n",
       "[1 rows x 64 columns]"
      ]
     },
     "execution_count": 10,
     "metadata": {},
     "output_type": "execute_result"
    }
   ],
   "source": [
    "rm_df.head(1)"
   ]
  },
  {
   "cell_type": "code",
   "execution_count": 11,
   "id": "eb226813",
   "metadata": {},
   "outputs": [],
   "source": [
    "rm_dic = {}\n",
    "for index in list(rm_df.index):\n",
    "    path = rm_df.loc[index,'Path']\n",
    "    series = rm_df.loc[index,'Series']\n",
    "    project = rm_df.loc[index,'Project']\n",
    "    skills = rm_df.loc[index,'Skills']\n",
    "    summary = rm_df.loc[index,'Summary']\n",
    "    text = f\"\"\"## Project({project})\n",
    "### Part of the Coursera series: {series}\n",
    "    \n",
    "## Summary\n",
    "{summary}\n",
    "\n",
    "## Skills (Developed & Applied)\n",
    "{skills}\n",
    "    \"\"\"\n",
    "    rm_dic[index] = path, text"
   ]
  },
  {
   "cell_type": "code",
   "execution_count": 12,
   "id": "7f5ef0fa",
   "metadata": {},
   "outputs": [],
   "source": [
    "for index, (folder_path, text) in rm_dic.items():\n",
    "#     readme = 'README'+str(index)+'.md'\n",
    "#     temp_path = r'C:\\Users\\dmark\\OneDrive\\Career\\Projects\\README Generator\\TEMP'\n",
    "#     write_path = Path(temp_path) / readme\n",
    "    write_path = Path(folder_path) / \"README.md\"\n",
    "    try:\n",
    "        write_path.unlink()\n",
    "    except:\n",
    "        pass\n",
    "    write_path.touch()\n",
    "    write_path.write_text(text)"
   ]
  },
  {
   "cell_type": "code",
   "execution_count": null,
   "id": "82c563d6",
   "metadata": {},
   "outputs": [],
   "source": []
  }
 ],
 "metadata": {
  "kernelspec": {
   "display_name": "Python 3 (ipykernel)",
   "language": "python",
   "name": "python3"
  },
  "language_info": {
   "codemirror_mode": {
    "name": "ipython",
    "version": 3
   },
   "file_extension": ".py",
   "mimetype": "text/x-python",
   "name": "python",
   "nbconvert_exporter": "python",
   "pygments_lexer": "ipython3",
   "version": "3.11.4"
  }
 },
 "nbformat": 4,
 "nbformat_minor": 5
}
